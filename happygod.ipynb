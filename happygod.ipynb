{
 "cells": [
  {
   "cell_type": "code",
   "execution_count": 3,
   "metadata": {},
   "outputs": [
    {
     "name": "stdout",
     "output_type": "stream",
     "text": [
      "enter values in kilometers: 4\n",
      "4.00 kilometers is equal to 2.49 miles\n"
     ]
    }
   ],
   "source": [
    "#1.python program to convert kilometers to miles\n",
    "\n",
    "\n",
    "#taking kilometer input from the user\n",
    "kilometers = float (input(\"enter values in kilometers: \"))\n",
    "conv_fac = 0.621371\n",
    "miles = kilometers * conv_fac\n",
    "print('%0.2f kilometers is equal to %0.2f miles'%(kilometers, miles))"
   ]
  },
  {
   "cell_type": "code",
   "execution_count": 5,
   "metadata": {},
   "outputs": [
    {
     "name": "stdout",
     "output_type": "stream",
     "text": [
      "52.9\n",
      "9.81999999112304e-05\n"
     ]
    }
   ],
   "source": [
    "#2. python program to measure the elapsed time in python import time\n",
    "from timeit import default_timer as timer\n",
    "start = timer()\n",
    "print (23*2.3)\n",
    "end = timer()\n",
    "print(end-start)"
   ]
  },
  {
   "cell_type": "code",
   "execution_count": null,
   "metadata": {},
   "outputs": [],
   "source": [
    "#To use a python program \n",
    "import streamlit as st\n",
    "st.hearder('**welcome to my simple web app**')\n",
    "st.write('* convert celcius to farenheit  *')\n",
    "celcius = st.number_input('enter any celicius  value')\n",
    "st.write(celcius,'temperature in farenheit is: ',(celcius*9/5)+32,'°F' )\n"
   ]
  },
  {
   "cell_type": "code",
   "execution_count": 57,
   "metadata": {},
   "outputs": [
    {
     "name": "stdout",
     "output_type": "stream",
     "text": [
      "start at:  43786753.52833601\n",
      "it ends 33211151646479.23\n"
     ]
    }
   ],
   "source": [
    "# G = gravitational constant \n",
    "# g = acceleration due to gravity\n",
    "#r = radius of the earth\n",
    "# m = mass of the earth\n",
    "from timeit import default_timer as timer\n",
    "g = 9.8**2\n",
    "r=(6.37*106)**2\n",
    "G=6.873*10-11\n",
    "start = timer()\n",
    "print(\"start at: \",g*r)\n",
    "end = timer()\n",
    "print(\"it ends\",gr**2/G)\n"
   ]
  },
  {
   "cell_type": "code",
   "execution_count": null,
   "metadata": {},
   "outputs": [],
   "source": []
  }
 ],
 "metadata": {
  "kernelspec": {
   "display_name": "Python 3",
   "language": "python",
   "name": "python3"
  },
  "language_info": {
   "codemirror_mode": {
    "name": "ipython",
    "version": 3
   },
   "file_extension": ".py",
   "mimetype": "text/x-python",
   "name": "python",
   "nbconvert_exporter": "python",
   "pygments_lexer": "ipython3",
   "version": "3.8.5"
  }
 },
 "nbformat": 4,
 "nbformat_minor": 4
}
